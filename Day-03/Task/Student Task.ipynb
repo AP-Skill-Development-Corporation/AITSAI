{
 "cells": [
  {
   "cell_type": "code",
   "execution_count": 1,
   "id": "47c13b24",
   "metadata": {},
   "outputs": [],
   "source": [
    "import random"
   ]
  },
  {
   "cell_type": "code",
   "execution_count": 2,
   "id": "c65da7d9",
   "metadata": {},
   "outputs": [
    {
     "name": "stdout",
     "output_type": "stream",
     "text": [
      "['BPF', 'LOG4', 'NV_MAGICCONST', 'RECIP_BPF', 'Random', 'SG_MAGICCONST', 'SystemRandom', 'TWOPI', '_BuiltinMethodType', '_MethodType', '_Sequence', '_Set', '__all__', '__builtins__', '__cached__', '__doc__', '__file__', '__loader__', '__name__', '__package__', '__spec__', '_acos', '_bisect', '_ceil', '_cos', '_e', '_exp', '_inst', '_itertools', '_log', '_os', '_pi', '_random', '_sha512', '_sin', '_sqrt', '_test', '_test_generator', '_urandom', '_warn', 'betavariate', 'choice', 'choices', 'expovariate', 'gammavariate', 'gauss', 'getrandbits', 'getstate', 'lognormvariate', 'normalvariate', 'paretovariate', 'randint', 'random', 'randrange', 'sample', 'seed', 'setstate', 'shuffle', 'triangular', 'uniform', 'vonmisesvariate', 'weibullvariate']\n"
     ]
    }
   ],
   "source": [
    "print(dir(random))"
   ]
  },
  {
   "cell_type": "code",
   "execution_count": 10,
   "id": "2994b496",
   "metadata": {},
   "outputs": [
    {
     "name": "stdout",
     "output_type": "stream",
     "text": [
      "3\n"
     ]
    }
   ],
   "source": [
    "g = random.randrange(0,100)\n",
    "print(g)"
   ]
  },
  {
   "cell_type": "code",
   "execution_count": 24,
   "id": "85f2e4d9",
   "metadata": {},
   "outputs": [
    {
     "name": "stdout",
     "output_type": "stream",
     "text": [
      "Enter Roll Number: 19AK1A3200\n"
     ]
    }
   ],
   "source": [
    "with open('DumpedData/student.csv','a') as fg:\n",
    "    t = \"Roll Number\"+\",\"+\"Subject-1\"+\",\"+\"Subject-2\"+\",\"+\"Total\"+\",\"+\"Status\"+\",\"+\"\\n\"\n",
    "    fg.write(t)\n",
    "    r = input(\"Enter Roll Number: \")\n",
    "    m1 = random.randrange(0,100)\n",
    "    m2 = random.randrange(0,100)\n",
    "    z = m1+m2\n",
    "    pu = z//2\n",
    "    s = \"\"\n",
    "    if pu <=35:\n",
    "        s = \"F\"\n",
    "    else:\n",
    "        s = \"P\"\n",
    "    k = r+\",\"+str(m1)+\",\"+str(m2)+\",\"+str(z)+\",\"+s+\"\\n\"\n",
    "    fg.write(k)"
   ]
  },
  {
   "cell_type": "code",
   "execution_count": 27,
   "id": "9b5bc62c",
   "metadata": {},
   "outputs": [
    {
     "name": "stdout",
     "output_type": "stream",
     "text": [
      "['Roll Number,Subject-1,Subject-2,Total,Status,\\n', '20AK1A3010,35,42,77,P']\n"
     ]
    }
   ],
   "source": [
    "with open('DumpedData/student.csv','r')as fr:\n",
    "    print(fr.readlines())"
   ]
  },
  {
   "cell_type": "code",
   "execution_count": null,
   "id": "bcdda4f8",
   "metadata": {},
   "outputs": [],
   "source": []
  }
 ],
 "metadata": {
  "kernelspec": {
   "display_name": "Python 3",
   "language": "python",
   "name": "python3"
  },
  "language_info": {
   "codemirror_mode": {
    "name": "ipython",
    "version": 3
   },
   "file_extension": ".py",
   "mimetype": "text/x-python",
   "name": "python",
   "nbconvert_exporter": "python",
   "pygments_lexer": "ipython3",
   "version": "3.7.5"
  }
 },
 "nbformat": 4,
 "nbformat_minor": 5
}
